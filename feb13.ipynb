{
 "cells": [
  {
   "cell_type": "code",
   "execution_count": 2,
   "metadata": {},
   "outputs": [
    {
     "name": "stdout",
     "output_type": "stream",
     "text": [
      "hi\n"
     ]
    }
   ],
   "source": [
    "print(\"hi\")"
   ]
  },
  {
   "cell_type": "code",
   "execution_count": 4,
   "metadata": {},
   "outputs": [],
   "source": [
    "#IMPORT LIBRARIES \n",
    "import numpy as np"
   ]
  },
  {
   "cell_type": "code",
   "execution_count": 5,
   "metadata": {},
   "outputs": [
    {
     "data": {
      "text/plain": [
       "array([[ 0.48322278, -0.14066421, -0.1235064 ],\n",
       "       [-0.22258093, -0.72688176, -1.42178914]])"
      ]
     },
     "execution_count": 5,
     "metadata": {},
     "output_type": "execute_result"
    }
   ],
   "source": [
    "my_random_array = np.random.randn(2, 3)\n",
    "my_random_array"
   ]
  },
  {
   "cell_type": "code",
   "execution_count": 8,
   "metadata": {},
   "outputs": [
    {
     "data": {
      "text/plain": [
       "array([1, 2, 3, 4])"
      ]
     },
     "execution_count": 8,
     "metadata": {},
     "output_type": "execute_result"
    }
   ],
   "source": [
    "np.arange(1, 5)  # from 1 inclusive to 5 exclusive "
   ]
  },
  {
   "cell_type": "code",
   "execution_count": null,
   "metadata": {},
   "outputs": [],
   "source": [
    "np.arange(0, 11, 2)  # step by 2 from 1 to 11"
   ]
  },
  {
   "cell_type": "code",
   "execution_count": 9,
   "metadata": {},
   "outputs": [
    {
     "name": "stdout",
     "output_type": "stream",
     "text": [
      "[[-0.19026931 -0.06664079 -0.96786549 -0.32462022 -0.99530671]\n",
      " [-0.48037466  0.67577635  0.59357225 -0.40312255 -1.25179999]\n",
      " [ 0.81124283  0.06956465 -0.14493777 -1.0982683  -0.35071252]\n",
      " [-0.41433827 -0.56410656  0.37827059  1.88408839 -0.5288418 ]\n",
      " [-1.23018767 -0.22276928 -0.75428139  0.36251111  0.65324482]\n",
      " [ 0.14274386 -0.36388903  0.25576997 -0.30279683  1.82500921]\n",
      " [-0.81555101  1.10742496  2.10877593  0.96145397 -0.9133552 ]\n",
      " [-0.71040897 -0.69544479  1.12859518 -0.51468124  0.25735082]\n",
      " [-0.3876482  -0.08136265  0.29094676 -0.17348919 -1.76903102]\n",
      " [ 0.58928713 -1.03764347  0.37419674 -0.2920712  -0.91633262]]\n"
     ]
    }
   ],
   "source": [
    "bigMatrix = np.random.randn(10, 5)\n",
    "print(bigMatrix)"
   ]
  },
  {
   "cell_type": "code",
   "execution_count": 10,
   "metadata": {},
   "outputs": [
    {
     "data": {
      "text/plain": [
       "(10, 5)"
      ]
     },
     "execution_count": 10,
     "metadata": {},
     "output_type": "execute_result"
    }
   ],
   "source": [
    "bigMatrix.shape"
   ]
  }
 ],
 "metadata": {
  "kernelspec": {
   "display_name": "Python 3",
   "language": "python",
   "name": "python3"
  },
  "language_info": {
   "codemirror_mode": {
    "name": "ipython",
    "version": 3
   },
   "file_extension": ".py",
   "mimetype": "text/x-python",
   "name": "python",
   "nbconvert_exporter": "python",
   "pygments_lexer": "ipython3",
   "version": "3.10.13"
  }
 },
 "nbformat": 4,
 "nbformat_minor": 2
}
