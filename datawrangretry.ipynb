{
 "cells": [
  {
   "cell_type": "code",
   "execution_count": 1,
   "metadata": {},
   "outputs": [],
   "source": [
    "import sqlite3"
   ]
  },
  {
   "cell_type": "code",
   "execution_count": 2,
   "metadata": {},
   "outputs": [],
   "source": [
    "con = sqlite3.connect(\"chinook.db\")"
   ]
  },
  {
   "cell_type": "code",
   "execution_count": 3,
   "metadata": {},
   "outputs": [],
   "source": [
    "cur = con.cursor()"
   ]
  },
  {
   "cell_type": "code",
   "execution_count": 4,
   "metadata": {},
   "outputs": [],
   "source": [
    "res = cur.execute(\"select * from artists;\")\n"
   ]
  },
  {
   "cell_type": "code",
   "execution_count": 5,
   "metadata": {},
   "outputs": [],
   "source": [
    "output = res.fetchall()"
   ]
  },
  {
   "cell_type": "code",
   "execution_count": 6,
   "metadata": {},
   "outputs": [
    {
     "data": {
      "text/plain": [
       "list"
      ]
     },
     "execution_count": 6,
     "metadata": {},
     "output_type": "execute_result"
    }
   ],
   "source": [
    "type(output)"
   ]
  },
  {
   "cell_type": "code",
   "execution_count": 7,
   "metadata": {},
   "outputs": [
    {
     "name": "stdout",
     "output_type": "stream",
     "text": [
      "{1: 'AC/DC', 2: 'Accept', 3: 'Aerosmith', 4: 'Alanis Morissette', 5: 'Alice In Chains', 6: 'Antônio Carlos Jobim', 7: 'Apocalyptica', 8: 'Audioslave', 9: 'BackBeat', 10: 'Billy Cobham', 11: 'Black Label Society', 12: 'Black Sabbath', 13: 'Body Count', 14: 'Bruce Dickinson', 15: 'Buddy Guy', 16: 'Caetano Veloso', 17: 'Chico Buarque', 18: 'Chico Science & Nação Zumbi', 19: 'Cidade Negra', 20: 'Cláudio Zoli', 21: 'Various Artists', 22: 'Led Zeppelin', 23: 'Frank Zappa & Captain Beefheart', 24: 'Marcos Valle', 25: 'Milton Nascimento & Bebeto', 26: 'Azymuth', 27: 'Gilberto Gil', 28: 'João Gilberto', 29: 'Bebel Gilberto', 30: 'Jorge Vercilo', 31: 'Baby Consuelo', 32: 'Ney Matogrosso', 33: 'Luiz Melodia', 34: 'Nando Reis', 35: 'Pedro Luís & A Parede', 36: 'O Rappa', 37: 'Ed Motta', 38: 'Banda Black Rio', 39: 'Fernanda Porto', 40: 'Os Cariocas', 41: 'Elis Regina', 42: 'Milton Nascimento', 43: 'A Cor Do Som', 44: 'Kid Abelha', 45: 'Sandra De Sá', 46: 'Jorge Ben', 47: 'Hermeto Pascoal', 48: 'Barão Vermelho', 49: 'Edson, DJ Marky & DJ Patife Featuring Fernanda Porto', 50: 'Metallica', 51: 'Queen', 52: 'Kiss', 53: 'Spyro Gyra', 54: 'Green Day', 55: 'David Coverdale', 56: 'Gonzaguinha', 57: 'Os Mutantes', 58: 'Deep Purple', 59: 'Santana', 60: 'Santana Feat. Dave Matthews', 61: 'Santana Feat. Everlast', 62: 'Santana Feat. Rob Thomas', 63: 'Santana Feat. Lauryn Hill & Cee-Lo', 64: 'Santana Feat. The Project G&B', 65: 'Santana Feat. Maná', 66: 'Santana Feat. Eagle-Eye Cherry', 67: 'Santana Feat. Eric Clapton', 68: 'Miles Davis', 69: 'Gene Krupa', 70: 'Toquinho & Vinícius', 71: 'Vinícius De Moraes & Baden Powell', 72: 'Vinícius De Moraes', 73: 'Vinícius E Qurteto Em Cy', 74: 'Vinícius E Odette Lara', 75: 'Vinicius, Toquinho & Quarteto Em Cy', 76: 'Creedence Clearwater Revival', 77: 'Cássia Eller', 78: 'Def Leppard', 79: 'Dennis Chambers', 80: 'Djavan', 81: 'Eric Clapton', 82: 'Faith No More', 83: 'Falamansa', 84: 'Foo Fighters', 85: 'Frank Sinatra', 86: 'Funk Como Le Gusta', 87: 'Godsmack', 88: \"Guns N' Roses\", 89: 'Incognito', 90: 'Iron Maiden', 91: 'James Brown', 92: 'Jamiroquai', 93: 'JET', 94: 'Jimi Hendrix', 95: 'Joe Satriani', 96: 'Jota Quest', 97: 'João Suplicy', 98: 'Judas Priest', 99: 'Legião Urbana', 100: 'Lenny Kravitz', 101: 'Lulu Santos', 102: 'Marillion', 103: 'Marisa Monte', 104: 'Marvin Gaye', 105: 'Men At Work', 106: 'Motörhead', 107: 'Motörhead & Girlschool', 108: 'Mônica Marianno', 109: 'Mötley Crüe', 110: 'Nirvana', 111: 'O Terço', 112: 'Olodum', 113: 'Os Paralamas Do Sucesso', 114: 'Ozzy Osbourne', 115: 'Page & Plant', 116: 'Passengers', 117: \"Paul D'Ianno\", 118: 'Pearl Jam', 119: 'Peter Tosh', 120: 'Pink Floyd', 121: 'Planet Hemp', 122: 'R.E.M. Feat. Kate Pearson', 123: 'R.E.M. Feat. KRS-One', 124: 'R.E.M.', 125: 'Raimundos', 126: 'Raul Seixas', 127: 'Red Hot Chili Peppers', 128: 'Rush', 129: 'Simply Red', 130: 'Skank', 131: 'Smashing Pumpkins', 132: 'Soundgarden', 133: 'Stevie Ray Vaughan & Double Trouble', 134: 'Stone Temple Pilots', 135: 'System Of A Down', 136: 'Terry Bozzio, Tony Levin & Steve Stevens', 137: 'The Black Crowes', 138: 'The Clash', 139: 'The Cult', 140: 'The Doors', 141: 'The Police', 142: 'The Rolling Stones', 143: 'The Tea Party', 144: 'The Who', 145: 'Tim Maia', 146: 'Titãs', 147: 'Battlestar Galactica', 148: 'Heroes', 149: 'Lost', 150: 'U2', 151: 'UB40', 152: 'Van Halen', 153: 'Velvet Revolver', 154: 'Whitesnake', 155: 'Zeca Pagodinho', 156: 'The Office', 157: 'Dread Zeppelin', 158: 'Battlestar Galactica (Classic)', 159: 'Aquaman', 160: 'Christina Aguilera featuring BigElf', 161: \"Aerosmith & Sierra Leone's Refugee Allstars\", 162: 'Los Lonely Boys', 163: 'Corinne Bailey Rae', 164: 'Dhani Harrison & Jakob Dylan', 165: 'Jackson Browne', 166: 'Avril Lavigne', 167: 'Big & Rich', 168: \"Youssou N'Dour\", 169: 'Black Eyed Peas', 170: 'Jack Johnson', 171: 'Ben Harper', 172: 'Snow Patrol', 173: 'Matisyahu', 174: 'The Postal Service', 175: 'Jaguares', 176: 'The Flaming Lips', 177: \"Jack's Mannequin & Mick Fleetwood\", 178: 'Regina Spektor', 179: 'Scorpions', 180: 'House Of Pain', 181: 'Xis', 182: 'Nega Gizza', 183: 'Gustavo & Andres Veiga & Salazar', 184: 'Rodox', 185: 'Charlie Brown Jr.', 186: 'Pedro Luís E A Parede', 187: 'Los Hermanos', 188: 'Mundo Livre S/A', 189: 'Otto', 190: 'Instituto', 191: 'Nação Zumbi', 192: 'DJ Dolores & Orchestra Santa Massa', 193: 'Seu Jorge', 194: 'Sabotage E Instituto', 195: 'Stereo Maracana', 196: 'Cake', 197: 'Aisha Duo', 198: 'Habib Koité and Bamada', 199: 'Karsh Kale', 200: 'The Posies', 201: 'Luciana Souza/Romero Lubambo', 202: 'Aaron Goldberg', 203: 'Nicolaus Esterhazy Sinfonia', 204: 'Temple of the Dog', 205: 'Chris Cornell', 206: 'Alberto Turco & Nova Schola Gregoriana', 207: 'Richard Marlow & The Choir of Trinity College, Cambridge', 208: 'English Concert & Trevor Pinnock', 209: 'Anne-Sophie Mutter, Herbert Von Karajan & Wiener Philharmoniker', 210: 'Hilary Hahn, Jeffrey Kahane, Los Angeles Chamber Orchestra & Margaret Batjer', 211: 'Wilhelm Kempff', 212: 'Yo-Yo Ma', 213: 'Scholars Baroque Ensemble', 214: 'Academy of St. Martin in the Fields & Sir Neville Marriner', 215: 'Academy of St. Martin in the Fields Chamber Ensemble & Sir Neville Marriner', 216: 'Berliner Philharmoniker, Claudio Abbado & Sabine Meyer', 217: 'Royal Philharmonic Orchestra & Sir Thomas Beecham', 218: 'Orchestre Révolutionnaire et Romantique & John Eliot Gardiner', 219: 'Britten Sinfonia, Ivor Bolton & Lesley Garrett', 220: 'Chicago Symphony Chorus, Chicago Symphony Orchestra & Sir Georg Solti', 221: 'Sir Georg Solti & Wiener Philharmoniker', 222: 'Academy of St. Martin in the Fields, John Birch, Sir Neville Marriner & Sylvia McNair', 223: 'London Symphony Orchestra & Sir Charles Mackerras', 224: 'Barry Wordsworth & BBC Concert Orchestra', 225: 'Herbert Von Karajan, Mirella Freni & Wiener Philharmoniker', 226: 'Eugene Ormandy', 227: 'Luciano Pavarotti', 228: 'Leonard Bernstein & New York Philharmonic', 229: 'Boston Symphony Orchestra & Seiji Ozawa', 230: 'Aaron Copland & London Symphony Orchestra', 231: 'Ton Koopman', 232: 'Sergei Prokofiev & Yuri Temirkanov', 233: 'Chicago Symphony Orchestra & Fritz Reiner', 234: 'Orchestra of The Age of Enlightenment', 235: 'Emanuel Ax, Eugene Ormandy & Philadelphia Orchestra', 236: 'James Levine', 237: 'Berliner Philharmoniker & Hans Rosbaud', 238: 'Maurizio Pollini', 239: 'Academy of St. Martin in the Fields, Sir Neville Marriner & William Bennett', 240: 'Gustav Mahler', 241: 'Felix Schmidt, London Symphony Orchestra & Rafael Frühbeck de Burgos', 242: 'Edo de Waart & San Francisco Symphony', 243: 'Antal Doráti & London Symphony Orchestra', 244: 'Choir Of Westminster Abbey & Simon Preston', 245: 'Michael Tilson Thomas & San Francisco Symphony', 246: 'Chor der Wiener Staatsoper, Herbert Von Karajan & Wiener Philharmoniker', 247: \"The King's Singers\", 248: 'Berliner Philharmoniker & Herbert Von Karajan', 249: 'Sir Georg Solti, Sumi Jo & Wiener Philharmoniker', 250: \"Christopher O'Riley\", 251: 'Fretwork', 252: 'Amy Winehouse', 253: 'Calexico', 254: 'Otto Klemperer & Philharmonia Orchestra', 255: 'Yehudi Menuhin', 256: 'Philharmonia Orchestra & Sir Neville Marriner', 257: 'Academy of St. Martin in the Fields, Sir Neville Marriner & Thurston Dart', 258: 'Les Arts Florissants & William Christie', 259: 'The 12 Cellists of The Berlin Philharmonic', 260: 'Adrian Leaper & Doreen de Feis', 261: 'Roger Norrington, London Classical Players', 262: \"Charles Dutoit & L'Orchestre Symphonique de Montréal\", 263: 'Equale Brass Ensemble, John Eliot Gardiner & Munich Monteverdi Orchestra and Choir', 264: \"Kent Nagano and Orchestre de l'Opéra de Lyon\", 265: 'Julian Bream', 266: 'Martin Roscoe', 267: 'Göteborgs Symfoniker & Neeme Järvi', 268: 'Itzhak Perlman', 269: 'Michele Campanella', 270: 'Gerald Moore', 271: 'Mela Tenenbaum, Pro Musica Prague & Richard Kapp', 272: 'Emerson String Quartet', 273: 'C. Monteverdi, Nigel Rogers - Chiaroscuro; London Baroque; London Cornett & Sackbu', 274: 'Nash Ensemble', 275: 'Philip Glass Ensemble'}\n"
     ]
    }
   ],
   "source": [
    "id_to_artist = {}\n",
    "for i in output:\n",
    "    aid = i[0]\n",
    "    aname = i[1]\n",
    "    id_to_artist[aid]= aname\n",
    "\n",
    "print(id_to_artist)"
   ]
  },
  {
   "cell_type": "code",
   "execution_count": 8,
   "metadata": {},
   "outputs": [],
   "source": [
    "artist_to_id = {}\n",
    "for k in id_to_artist:\n",
    "    artist_to_id.update({id_to_artist[k]:k})\n",
    "   \n"
   ]
  },
  {
   "cell_type": "code",
   "execution_count": 9,
   "metadata": {},
   "outputs": [],
   "source": [
    "artist_to_id = {}\n",
    "for k in id_to_artist:    \n",
    "    v = id_to_artist[k]\n",
    "    artist_to_id[v]=k"
   ]
  },
  {
   "cell_type": "code",
   "execution_count": 10,
   "metadata": {},
   "outputs": [],
   "source": [
    "s = id_to_artist[10]\n"
   ]
  },
  {
   "cell_type": "code",
   "execution_count": 11,
   "metadata": {},
   "outputs": [
    {
     "data": {
      "text/plain": [
       "'Billy Cobham'"
      ]
     },
     "execution_count": 11,
     "metadata": {},
     "output_type": "execute_result"
    }
   ],
   "source": [
    "s"
   ]
  },
  {
   "cell_type": "code",
   "execution_count": 12,
   "metadata": {},
   "outputs": [
    {
     "data": {
      "text/plain": [
       "'BILLY COBHAM'"
      ]
     },
     "execution_count": 12,
     "metadata": {},
     "output_type": "execute_result"
    }
   ],
   "source": [
    "s.upper()"
   ]
  },
  {
   "cell_type": "code",
   "execution_count": 13,
   "metadata": {},
   "outputs": [
    {
     "data": {
      "text/plain": [
       "'billy cobham'"
      ]
     },
     "execution_count": 13,
     "metadata": {},
     "output_type": "execute_result"
    }
   ],
   "source": [
    "s.lower()"
   ]
  },
  {
   "cell_type": "code",
   "execution_count": 14,
   "metadata": {},
   "outputs": [
    {
     "data": {
      "text/plain": [
       "'Billy'"
      ]
     },
     "execution_count": 14,
     "metadata": {},
     "output_type": "execute_result"
    }
   ],
   "source": [
    "s.split(\" \")[0]"
   ]
  },
  {
   "cell_type": "code",
   "execution_count": 15,
   "metadata": {},
   "outputs": [
    {
     "data": {
      "text/plain": [
       "'a.b.c.d'"
      ]
     },
     "execution_count": 15,
     "metadata": {},
     "output_type": "execute_result"
    }
   ],
   "source": [
    "abcd=\"a,b,c,d\"\n",
    "abcd.split(\",\")[-1]\n",
    "abcd.replace(\",\",\".\")"
   ]
  },
  {
   "cell_type": "code",
   "execution_count": 16,
   "metadata": {},
   "outputs": [],
   "source": [
    "businessString = \"Business analytics refers to the skills, technologies, and practices for iterative exploration and investigation of past business performance to gain insight and drive business planning\""
   ]
  },
  {
   "cell_type": "code",
   "execution_count": 17,
   "metadata": {},
   "outputs": [],
   "source": [
    "businessString = businessString.lower()\n",
    "businessString = businessString.replace(\",\",\"\")\n",
    "plist = businessString.split(\" \")"
   ]
  },
  {
   "cell_type": "code",
   "execution_count": 18,
   "metadata": {},
   "outputs": [
    {
     "data": {
      "text/plain": [
       "25"
      ]
     },
     "execution_count": 18,
     "metadata": {},
     "output_type": "execute_result"
    }
   ],
   "source": [
    "len(plist)"
   ]
  },
  {
   "cell_type": "code",
   "execution_count": 19,
   "metadata": {},
   "outputs": [
    {
     "data": {
      "text/plain": [
       "20"
      ]
     },
     "execution_count": 19,
     "metadata": {},
     "output_type": "execute_result"
    }
   ],
   "source": [
    "pset = set(plist)\n",
    "len(pset)"
   ]
  },
  {
   "cell_type": "code",
   "execution_count": 20,
   "metadata": {},
   "outputs": [
    {
     "name": "stdout",
     "output_type": "stream",
     "text": [
      "x does not contain si\n",
      "x does not contain si\n",
      "x does not contain si\n",
      "x does not contain si\n",
      "business\n",
      "x does not contain si\n",
      "x does not contain si\n",
      "x does not contain si\n",
      "x does not contain si\n",
      "x does not contain si\n",
      "x does not contain si\n",
      "x does not contain si\n",
      "x does not contain si\n",
      "x does not contain si\n",
      "x does not contain si\n",
      "x does not contain si\n",
      "x does not contain si\n",
      "insight\n",
      "x does not contain si\n",
      "x does not contain si\n"
     ]
    }
   ],
   "source": [
    "for x in pset:\n",
    "    if \"si\" in x:\n",
    "        print(x)\n",
    "    else:\n",
    "        print(\"x does not contain si\")\n",
    "        continue"
   ]
  },
  {
   "cell_type": "code",
   "execution_count": 21,
   "metadata": {},
   "outputs": [
    {
     "data": {
      "text/plain": [
       "{'business': 24,\n",
       " 'analytics': 2,\n",
       " 'refers': 3,\n",
       " 'to': 19,\n",
       " 'the': 5,\n",
       " 'skills': 6,\n",
       " 'technologies': 7,\n",
       " 'and': 22,\n",
       " 'practices': 9,\n",
       " 'for': 10,\n",
       " 'iterative': 11,\n",
       " 'exploration': 12,\n",
       " 'investigation': 14,\n",
       " 'of': 15,\n",
       " 'past': 16,\n",
       " 'performance': 18,\n",
       " 'gain': 20,\n",
       " 'insight': 21,\n",
       " 'drive': 23,\n",
       " 'planning': 25}"
      ]
     },
     "execution_count": 21,
     "metadata": {},
     "output_type": "execute_result"
    }
   ],
   "source": [
    "pcount = {}\n",
    "#pcount=[plist:times appeared]\n",
    "OGcount = 0\n",
    "count = 0\n",
    "\n",
    "\n",
    "\n",
    "for x in plist:\n",
    "    if x == plist[OGcount]:\n",
    "        count +=1\n",
    "        pcount.update({x:count})\n",
    "        OGcount +=1\n",
    "    else:\n",
    "        OGcount += 1\n",
    "        continue\n",
    "pcount"
   ]
  },
  {
   "cell_type": "code",
   "execution_count": 22,
   "metadata": {},
   "outputs": [
    {
     "data": {
      "text/plain": [
       "{'business': 3,\n",
       " 'analytics': 1,\n",
       " 'refers': 1,\n",
       " 'to': 2,\n",
       " 'the': 1,\n",
       " 'skills': 1,\n",
       " 'technologies': 1,\n",
       " 'and': 3,\n",
       " 'practices': 1,\n",
       " 'for': 1,\n",
       " 'iterative': 1,\n",
       " 'exploration': 1,\n",
       " 'investigation': 1,\n",
       " 'of': 1,\n",
       " 'past': 1,\n",
       " 'performance': 1,\n",
       " 'gain': 1,\n",
       " 'insight': 1,\n",
       " 'drive': 1,\n",
       " 'planning': 1}"
      ]
     },
     "execution_count": 22,
     "metadata": {},
     "output_type": "execute_result"
    }
   ],
   "source": [
    "pcount = {}\n",
    "for p in plist:\n",
    "    if p in pcount:\n",
    "        pcount[p]=pcount[p]+1\n",
    "    else:\n",
    "        pcount[p]=1\n",
    "pcount"
   ]
  },
  {
   "cell_type": "code",
   "execution_count": null,
   "metadata": {},
   "outputs": [],
   "source": []
  }
 ],
 "metadata": {
  "kernelspec": {
   "display_name": "Python 3",
   "language": "python",
   "name": "python3"
  },
  "language_info": {
   "codemirror_mode": {
    "name": "ipython",
    "version": 3
   },
   "file_extension": ".py",
   "mimetype": "text/x-python",
   "name": "python",
   "nbconvert_exporter": "python",
   "pygments_lexer": "ipython3",
   "version": "3.10.13"
  }
 },
 "nbformat": 4,
 "nbformat_minor": 2
}
