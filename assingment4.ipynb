{
 "cells": [
  {
   "cell_type": "code",
   "execution_count": 3,
   "metadata": {},
   "outputs": [],
   "source": [
    "# Import necessary libraries\n",
    "import requests\n",
    "import pandas as pd\n",
    "\n",
    "# Task 1: Assign FRED API Key\n",
    "my_key = \"bd67f95ae70ff1842198dde635ab6bf2\"  \n"
   ]
  },
  {
   "cell_type": "markdown",
   "metadata": {},
   "source": [
    "## Task 2: FRED API Endpoint for Category Information\n",
    "The endpoint for extracting information about a category is `/category`."
   ]
  },
  {
   "cell_type": "code",
   "execution_count": 5,
   "metadata": {},
   "outputs": [],
   "source": [
    "\n",
    "# Task 3: Create Request URL for Category Information\n",
    "u1 = f\"https://api.stlouisfed.org/fred/category?category_id=1&api_key={my_key}&file_type=json\"\n"
   ]
  },
  {
   "cell_type": "code",
   "execution_count": 11,
   "metadata": {},
   "outputs": [
    {
     "name": "stdout",
     "output_type": "stream",
     "text": [
      "<Response [200]>\n",
      "------------------\n",
      "{'categories': [{'id': 1, 'name': 'Production & Business Activity', 'parent_id': 0}]}\n"
     ]
    }
   ],
   "source": [
    "\n",
    "# Task 4: Retrieve Information Using `requests`\n",
    "response = requests.get(u1)\n",
    "r1_json = response.json()\n",
    "print(response)\n",
    "print(\"------------------\")\n",
    "print(r1_json)\n"
   ]
  },
  {
   "cell_type": "markdown",
   "metadata": {},
   "source": [
    "## Task 5: FRED API Endpoint for Child Categories\n",
    "The endpoint for extracting information about the child categories of a parent category is `/category/children`."
   ]
  },
  {
   "cell_type": "code",
   "execution_count": 12,
   "metadata": {},
   "outputs": [
    {
     "name": "stdout",
     "output_type": "stream",
     "text": [
      "<Response [200]>\n",
      "------------------\n",
      "{'categories': [{'id': 32262, 'name': 'Business Cycle Expansions & Contractions', 'parent_id': 1}, {'id': 33936, 'name': 'Business Surveys', 'parent_id': 1}, {'id': 32436, 'name': 'Construction', 'parent_id': 1}, {'id': 33940, 'name': 'Emissions', 'parent_id': 1}, {'id': 33955, 'name': 'Expenditures', 'parent_id': 1}, {'id': 33490, 'name': 'Finance Companies', 'parent_id': 1}, {'id': 32216, 'name': 'Health Insurance', 'parent_id': 1}, {'id': 97, 'name': 'Housing', 'parent_id': 1}, {'id': 3, 'name': 'Industrial Production & Capacity Utilization', 'parent_id': 1}, {'id': 32429, 'name': 'Manufacturing', 'parent_id': 1}, {'id': 33959, 'name': 'Patents', 'parent_id': 1}, {'id': 6, 'name': 'Retail Trade', 'parent_id': 1}, {'id': 33441, 'name': 'Services', 'parent_id': 1}, {'id': 33492, 'name': 'Technology', 'parent_id': 1}, {'id': 33202, 'name': 'Transportation', 'parent_id': 1}, {'id': 33203, 'name': 'Wholesale Trade', 'parent_id': 1}]}\n"
     ]
    }
   ],
   "source": [
    "\n",
    "# Task 6: Retrieve Information About Child Categories\n",
    "u2 = f\"https://api.stlouisfed.org/fred/category/children?category_id=1&api_key={my_key}&file_type=json\"\n",
    "response2 = requests.get(u2)\n",
    "r2_json = response2.json()\n",
    "print(response2)\n",
    "print(\"------------------\")\n",
    "print(r2_json)\n"
   ]
  },
  {
   "cell_type": "code",
   "execution_count": 15,
   "metadata": {},
   "outputs": [
    {
     "name": "stdout",
     "output_type": "stream",
     "text": [
      "[32262, 33936, 32436, 33940, 33955, 33490, 32216, 97, 3, 32429, 33959, 6, 33441, 33492, 33202, 33203]\n",
      "------------------\n",
      "['Business Cycle Expansions & Contractions', 'Business Surveys', 'Construction', 'Emissions', 'Expenditures', 'Finance Companies', 'Health Insurance', 'Housing', 'Industrial Production & Capacity Utilization', 'Manufacturing', 'Patents', 'Retail Trade', 'Services', 'Technology', 'Transportation', 'Wholesale Trade']\n"
     ]
    }
   ],
   "source": [
    "\n",
    "# Task 7: Create Lists from `r2_json`\n",
    "category_ids = [category['id'] for category in r2_json['categories']]\n",
    "category_names = [category['name'] for category in r2_json['categories']]\n",
    "\n",
    "print(category_ids)\n",
    "print(\"------------------\")\n",
    "print(category_names)\n"
   ]
  },
  {
   "cell_type": "code",
   "execution_count": 17,
   "metadata": {},
   "outputs": [
    {
     "data": {
      "text/html": [
       "<div>\n",
       "<style scoped>\n",
       "    .dataframe tbody tr th:only-of-type {\n",
       "        vertical-align: middle;\n",
       "    }\n",
       "\n",
       "    .dataframe tbody tr th {\n",
       "        vertical-align: top;\n",
       "    }\n",
       "\n",
       "    .dataframe thead th {\n",
       "        text-align: right;\n",
       "    }\n",
       "</style>\n",
       "<table border=\"1\" class=\"dataframe\">\n",
       "  <thead>\n",
       "    <tr style=\"text-align: right;\">\n",
       "      <th></th>\n",
       "      <th>category_ids</th>\n",
       "      <th>category_names</th>\n",
       "    </tr>\n",
       "  </thead>\n",
       "  <tbody>\n",
       "    <tr>\n",
       "      <th>0</th>\n",
       "      <td>32262</td>\n",
       "      <td>Business Cycle Expansions &amp; Contractions</td>\n",
       "    </tr>\n",
       "    <tr>\n",
       "      <th>1</th>\n",
       "      <td>33936</td>\n",
       "      <td>Business Surveys</td>\n",
       "    </tr>\n",
       "    <tr>\n",
       "      <th>2</th>\n",
       "      <td>32436</td>\n",
       "      <td>Construction</td>\n",
       "    </tr>\n",
       "    <tr>\n",
       "      <th>3</th>\n",
       "      <td>33940</td>\n",
       "      <td>Emissions</td>\n",
       "    </tr>\n",
       "    <tr>\n",
       "      <th>4</th>\n",
       "      <td>33955</td>\n",
       "      <td>Expenditures</td>\n",
       "    </tr>\n",
       "  </tbody>\n",
       "</table>\n",
       "</div>"
      ],
      "text/plain": [
       "   category_ids                            category_names\n",
       "0         32262  Business Cycle Expansions & Contractions\n",
       "1         33936                          Business Surveys\n",
       "2         32436                              Construction\n",
       "3         33940                                 Emissions\n",
       "4         33955                              Expenditures"
      ]
     },
     "execution_count": 17,
     "metadata": {},
     "output_type": "execute_result"
    }
   ],
   "source": [
    "\n",
    "# Task 8: Create DataFrame\n",
    "children_of_c1 = pd.DataFrame({\n",
    "    'category_ids': category_ids,\n",
    "    'category_names': category_names\n",
    "})\n",
    "\n",
    "children_of_c1.head()"
   ]
  },
  {
   "cell_type": "code",
   "execution_count": null,
   "metadata": {},
   "outputs": [],
   "source": [
    "# Task 9: Clear API Key\n",
    "my_key = \"\"\n"
   ]
  },
  {
   "cell_type": "code",
   "execution_count": null,
   "metadata": {},
   "outputs": [],
   "source": []
  }
 ],
 "metadata": {
  "kernelspec": {
   "display_name": "Python 3",
   "language": "python",
   "name": "python3"
  },
  "language_info": {
   "codemirror_mode": {
    "name": "ipython",
    "version": 3
   },
   "file_extension": ".py",
   "mimetype": "text/x-python",
   "name": "python",
   "nbconvert_exporter": "python",
   "pygments_lexer": "ipython3",
   "version": "3.10.13"
  }
 },
 "nbformat": 4,
 "nbformat_minor": 2
}
